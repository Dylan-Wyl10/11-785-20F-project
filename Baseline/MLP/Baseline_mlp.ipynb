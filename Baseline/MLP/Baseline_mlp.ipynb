{
 "cells": [
  {
   "cell_type": "markdown",
   "metadata": {},
   "source": [
    "# Load libs"
   ]
  },
  {
   "cell_type": "code",
   "execution_count": 1,
   "metadata": {},
   "outputs": [],
   "source": [
    "import random            \n",
    "import torch\n",
    "import time\n",
    "import torchvision\n",
    "import torch.nn as nn\n",
    "import seaborn as sns\n",
    "import torch.optim as optim\n",
    "import pandas as pd                                 \n",
    "import numpy as np\n",
    "import matplotlib.pyplot as plt  \n",
    "from collections import defaultdict\n",
    "from datetime import timedelta\n",
    "from torch.utils.data import Dataset, DataLoader"
   ]
  },
  {
   "cell_type": "markdown",
   "metadata": {},
   "source": [
    "# Create abnormal dataset"
   ]
  },
  {
   "cell_type": "code",
   "execution_count": 3,
   "metadata": {},
   "outputs": [
    {
     "name": "stderr",
     "output_type": "stream",
     "text": [
      "/opt/anaconda3/lib/python3.7/site-packages/ipykernel_launcher.py:13: SettingWithCopyWarning: \n",
      "A value is trying to be set on a copy of a slice from a DataFrame.\n",
      "Try using .loc[row_indexer,col_indexer] = value instead\n",
      "\n",
      "See the caveats in the documentation: http://pandas.pydata.org/pandas-docs/stable/user_guide/indexing.html#returning-a-view-versus-a-copy\n",
      "  del sys.path[0]\n",
      "/opt/anaconda3/lib/python3.7/site-packages/ipykernel_launcher.py:14: SettingWithCopyWarning: \n",
      "A value is trying to be set on a copy of a slice from a DataFrame.\n",
      "Try using .loc[row_indexer,col_indexer] = value instead\n",
      "\n",
      "See the caveats in the documentation: http://pandas.pydata.org/pandas-docs/stable/user_guide/indexing.html#returning-a-view-versus-a-copy\n",
      "  \n"
     ]
    }
   ],
   "source": [
    "df = pd.read_csv('./data/mnist_test.csv')\n",
    "abnormal = df[:1000]\n",
    "clean = df[1000:]\n",
    "\n",
    "for i in range(len(abnormal)):\n",
    "    row = abnormal.iloc[i]\n",
    "    # iterate through each element in row\n",
    "    for i in range(len(row)-1):\n",
    "        # add noise to element\n",
    "        row[i+1] = min(255, row[i+1]+random.randint(100,200))\n",
    "        \n",
    "abnormal['label'] = 1\n",
    "clean['label'] = 0\n",
    "        \n",
    "test = pd.concat([abnormal, clean])  # join\n",
    "test.sample(frac=1)              # shuffle\n",
    "test.to_csv('./data/abnormal.csv')          # save"
   ]
  },
  {
   "cell_type": "markdown",
   "metadata": {},
   "source": [
    "# Train autoencoder"
   ]
  },
  {
   "cell_type": "code",
   "execution_count": 4,
   "metadata": {},
   "outputs": [],
   "source": [
    "class AutoEncoder(nn.Module):\n",
    "    def __init__(self):\n",
    "        super(AutoEncoder, self).__init__()\n",
    "        self.encoder = nn.Sequential(\n",
    "            nn.Linear(28*28,128),\n",
    "            nn.ReLU(),\n",
    "            nn.Linear(128,64),\n",
    "            nn.ReLU(),\n",
    "            nn.Linear(64, 12),\n",
    "            nn.ReLU(),\n",
    "            nn.Linear(12, 3),\n",
    "\n",
    "        )\n",
    "        self.decoder = nn.Sequential(\n",
    "            nn.Linear(3, 12),\n",
    "            nn.ReLU(),\n",
    "            nn.Linear(12, 64),\n",
    "            nn.ReLU(),\n",
    "            nn.Linear(64, 128),\n",
    "            nn.ReLU(),\n",
    "            nn.Linear(128, 28*28),\n",
    "            nn.ReLU(),\n",
    "        )\n",
    "    def forward(self, x):\n",
    "        encoded = self.encoder(x)\n",
    "        decoded = self.decoder(encoded)\n",
    "        return decoded\n",
    "\n"
   ]
  },
  {
   "cell_type": "code",
   "execution_count": 5,
   "metadata": {},
   "outputs": [],
   "source": [
    "class Loader(torch.utils.data.Dataset):\n",
    "    def __init__(self):\n",
    "        super(Loader, self).__init__()\n",
    "        self.dataset = ''\n",
    "    \n",
    "    def __len__(self):\n",
    "        return len(self.dataset)\n",
    "    \n",
    "    def __getitem__(self, idx):\n",
    "        row = self.dataset.iloc[idx]\n",
    "        row = row.drop(labels={'label'})\n",
    "        data = torch.from_numpy(np.array(row)/255).float()\n",
    "        return data\n",
    "    \n",
    "class Train_Loader(Loader):\n",
    "    def __init__(self):\n",
    "        super(Train_Loader, self).__init__()\n",
    "        self.dataset = pd.read_csv(\n",
    "                       'data/mnist_train.csv',\n",
    "                       index_col=False\n",
    "                       )"
   ]
  },
  {
   "cell_type": "code",
   "execution_count": 6,
   "metadata": {},
   "outputs": [],
   "source": [
    "batch_size = 32\n",
    "lr = 1e-2         # learning rate\n",
    "w_d = 1e-5        # weight decay\n",
    "momentum = 0.9   \n",
    "epochs = 15\n",
    "\n",
    "train_set = Train_Loader()\n",
    "train_ = torch.utils.data.DataLoader(\n",
    "            train_set,\n",
    "            batch_size=batch_size,\n",
    "            shuffle=True,\n",
    "            num_workers=20,\n",
    "            pin_memory=True,\n",
    "            drop_last=True\n",
    "        )"
   ]
  },
  {
   "cell_type": "code",
   "execution_count": 7,
   "metadata": {},
   "outputs": [],
   "source": [
    "metrics = defaultdict(list)\n",
    "device = 'cuda' if torch.cuda.is_available() else 'cpu'\n",
    "model = AutoEncoder()\n",
    "model.to(device)\n",
    "criterion = nn.MSELoss(reduction='mean')\n",
    "optimizer = torch.optim.SGD(model.parameters(), lr=lr, weight_decay=w_d)"
   ]
  },
  {
   "cell_type": "code",
   "execution_count": 8,
   "metadata": {},
   "outputs": [
    {
     "name": "stdout",
     "output_type": "stream",
     "text": [
      "-----------------------------------------------\n",
      "[EPOCH] 1/15\n",
      "[LOSS] 0.003289737627779444\n",
      "Epoch Complete in 0:00:13.522883\n",
      "-----------------------------------------------\n",
      "[EPOCH] 2/15\n",
      "[LOSS] 0.003147836066285769\n",
      "Epoch Complete in 0:00:14.411036\n",
      "-----------------------------------------------\n",
      "[EPOCH] 3/15\n",
      "[LOSS] 0.0030011683183411757\n",
      "Epoch Complete in 0:00:14.966986\n",
      "-----------------------------------------------\n",
      "[EPOCH] 4/15\n",
      "[LOSS] 0.002862374819815159\n",
      "Epoch Complete in 0:00:15.345179\n",
      "-----------------------------------------------\n",
      "[EPOCH] 5/15\n",
      "[LOSS] 0.002761349003141125\n",
      "Epoch Complete in 0:00:13.947647\n",
      "-----------------------------------------------\n",
      "[EPOCH] 6/15\n",
      "[LOSS] 0.0027003492991129556\n",
      "Epoch Complete in 0:00:13.982289\n",
      "-----------------------------------------------\n",
      "[EPOCH] 7/15\n",
      "[LOSS] 0.0026651780681063732\n",
      "Epoch Complete in 0:00:14.535497\n",
      "-----------------------------------------------\n",
      "[EPOCH] 8/15\n",
      "[LOSS] 0.0026422490103791157\n",
      "Epoch Complete in 0:00:15.601700\n",
      "-----------------------------------------------\n",
      "[EPOCH] 9/15\n",
      "[LOSS] 0.002631274826824665\n",
      "Epoch Complete in 0:00:14.724214\n",
      "-----------------------------------------------\n",
      "[EPOCH] 10/15\n",
      "[LOSS] 0.0026264808777719736\n",
      "Epoch Complete in 0:00:13.870814\n",
      "-----------------------------------------------\n",
      "[EPOCH] 11/15\n",
      "[LOSS] 0.002620458654438456\n",
      "Epoch Complete in 0:00:14.843882\n",
      "-----------------------------------------------\n",
      "[EPOCH] 12/15\n",
      "[LOSS] 0.002616276388987899\n",
      "Epoch Complete in 0:00:14.188014\n",
      "-----------------------------------------------\n",
      "[EPOCH] 13/15\n",
      "[LOSS] 0.0026135148463149863\n",
      "Epoch Complete in 0:00:13.877833\n",
      "-----------------------------------------------\n",
      "[EPOCH] 14/15\n",
      "[LOSS] 0.0026074683936933678\n",
      "Epoch Complete in 0:00:13.533011\n",
      "-----------------------------------------------\n",
      "[EPOCH] 15/15\n",
      "[LOSS] 0.002604111490150293\n",
      "Epoch Complete in 0:00:13.727929\n",
      "-----------------------------------------------\n",
      "[System Complete: 0:03:35.094622]\n"
     ]
    }
   ],
   "source": [
    "model.train()\n",
    "start = time.time()\n",
    "for epoch in range(epochs):\n",
    "    ep_start = time.time()\n",
    "    running_loss = 0.0\n",
    "    for bx, (data) in enumerate(train_):\n",
    "        sample = model(data.to(device))\n",
    "        loss = criterion(data.to(device), sample)\n",
    "        optimizer.zero_grad()\n",
    "        loss.backward()\n",
    "        optimizer.step()\n",
    "        running_loss += loss.item()\n",
    "    epoch_loss = running_loss/len(train_set)\n",
    "    metrics['train_loss'].append(epoch_loss)\n",
    "    ep_end = time.time()\n",
    "    print('-----------------------------------------------')\n",
    "    print('[EPOCH] {}/{}\\n[LOSS] {}'.format(epoch+1,epochs,epoch_loss))\n",
    "    print('Epoch Complete in {}'.format(timedelta(seconds=ep_end-ep_start)))\n",
    "end = time.time()\n",
    "print('-----------------------------------------------')\n",
    "print('[System Complete: {}]'.format(timedelta(seconds=end-start)))"
   ]
  },
  {
   "cell_type": "markdown",
   "metadata": {},
   "source": [
    "# Detect anomalies"
   ]
  },
  {
   "cell_type": "code",
   "execution_count": 9,
   "metadata": {},
   "outputs": [
    {
     "data": {
      "text/plain": [
       "[<matplotlib.lines.Line2D at 0x7fd0a695cb90>]"
      ]
     },
     "execution_count": 9,
     "metadata": {},
     "output_type": "execute_result"
    },
    {
     "data": {
      "image/png": "[encoded data removed]",
      "text/plain": [
       "<Figure size 1080x720 with 1 Axes>"
      ]
     },
     "metadata": {
      "needs_background": "light"
     },
     "output_type": "display_data"
    }
   ],
   "source": [
    "# train loss\n",
    "_, ax = plt.subplots(1,1,figsize=(15,10))\n",
    "ax.set_title('Loss')\n",
    "ax.plot(metrics['train_loss'])"
   ]
  },
  {
   "cell_type": "code",
   "execution_count": 11,
   "metadata": {},
   "outputs": [
    {
     "data": {
      "text/plain": [
       "<matplotlib.lines.Line2D at 0x7fd0a6923690>"
      ]
     },
     "execution_count": 11,
     "metadata": {},
     "output_type": "execute_result"
    },
    {
     "data": {
      "image/png": "[encoded data removed]",
      "text/plain": [
       "<Figure size 432x288 with 1 Axes>"
      ]
     },
     "metadata": {
      "needs_background": "light"
     },
     "output_type": "display_data"
    }
   ],
   "source": [
    "# Get threshold\n",
    "model.eval()\n",
    "loss_dist = []\n",
    "anom = pd.read_csv('data/abnormal.csv', index_col=[0])\n",
    "\n",
    "for i in range(len(anom)):\n",
    "    data = torch.from_numpy(np.array(anom.iloc[i][1:])/255).float()\n",
    "    sample = model(data.to(device))\n",
    "    loss = criterion(data.to(device), sample)\n",
    "    loss_dist.append(loss.item())\n",
    "\n",
    "loss_sc = []\n",
    "for i in loss_dist:\n",
    "    loss_sc.append((i,i))\n",
    "plt.scatter(*zip(*loss_sc))\n",
    "plt.axvline(0.3, 0.0, 1)"
   ]
  },
  {
   "cell_type": "code",
   "execution_count": 12,
   "metadata": {},
   "outputs": [
    {
     "data": {
      "text/plain": [
       "<matplotlib.lines.Line2D at 0x7fd0a68c38d0>"
      ]
     },
     "execution_count": 12,
     "metadata": {},
     "output_type": "execute_result"
    },
    {
     "data": {
      "image/png": "[encoded data removed]",
      "text/plain": [
       "<Figure size 864x432 with 1 Axes>"
      ]
     },
     "metadata": {
      "needs_background": "light"
     },
     "output_type": "display_data"
    }
   ],
   "source": [
    "# Plot threshold\n",
    "lower_threshold = 0.0\n",
    "upper_threshold = 0.3\n",
    "plt.figure(figsize=(12,6))\n",
    "plt.title('Loss Distribution')\n",
    "sns.distplot(loss_dist,bins=100,kde=True, color='blue')\n",
    "plt.axvline(upper_threshold, 0.0, 10, color='r')\n",
    "plt.axvline(lower_threshold, 0.0, 10, color='b')"
   ]
  },
  {
   "cell_type": "code",
   "execution_count": 13,
   "metadata": {},
   "outputs": [
    {
     "name": "stdout",
     "output_type": "stream",
     "text": [
      "[TP] 1000\t[FP] 0\t[MISSED] 0\n",
      "[TN] 9000\t[FN] 0\n"
     ]
    }
   ],
   "source": [
    "# Confusion matrix\n",
    "df = pd.read_csv('data/anom.csv', index_col=[0])\n",
    "ddf = pd.DataFrame(columns=df.columns)\n",
    "tp = 0\n",
    "fp = 0\n",
    "tn = 0\n",
    "fn = 0\n",
    "total_anom = 0\n",
    "for i in range(len(loss_dist)):\n",
    "    total_anom += df.iloc[i]['label']\n",
    "    if loss_dist[i] >= upper_threshold:\n",
    "        n_df = pd.DataFrame([df.iloc[i]])\n",
    "        n_df['loss'] = loss_dist[i]\n",
    "        ddf = pd.concat([df,n_df], sort = True)\n",
    "        if float(df.iloc[i]['label']) == 1.0:\n",
    "            tp += 1\n",
    "        else:\n",
    "            fp += 1\n",
    "    else:\n",
    "        if float(df.iloc[i]['label']) == 1.0:\n",
    "            fn += 1\n",
    "        else:\n",
    "            tn += 1\n",
    "print('[TP] {}\\t[FP] {}\\t[MISSED] {}'.format(tp, fp, total_anom-tp))\n",
    "print('[TN] {}\\t[FN] {}'.format(tn, fn))"
   ]
  },
  {
   "cell_type": "code",
   "execution_count": 33,
   "metadata": {},
   "outputs": [
    {
     "data": {
      "text/plain": [
       "<matplotlib.axes._subplots.AxesSubplot at 0x7fd07bb352d0>"
      ]
     },
     "execution_count": 33,
     "metadata": {},
     "output_type": "execute_result"
    },
    {
     "data": {
      "image/png": "[encoded data removed]",
      "text/plain": [
       "<Figure size 432x288 with 2 Axes>"
      ]
     },
     "metadata": {
      "needs_background": "light"
     },
     "output_type": "display_data"
    }
   ],
   "source": [
    "conf = np.array([[tn,fp],[fn,tp]])\n",
    "plt.figure()\n",
    "sns.heatmap(conf,annot=True,annot_kws={\"size\": 16},fmt='g')"
   ]
  },
  {
   "cell_type": "code",
   "execution_count": null,
   "metadata": {},
   "outputs": [],
   "source": []
  }
 ],
 "metadata": {
  "kernelspec": {
   "display_name": "Python 3",
   "language": "python",
   "name": "python3"
  },
  "language_info": {
   "codemirror_mode": {
    "name": "ipython",
    "version": 3
   },
   "file_extension": ".py",
   "mimetype": "text/x-python",
   "name": "python",
   "nbconvert_exporter": "python",
   "pygments_lexer": "ipython3",
   "version": "3.7.4"
  }
 },
 "nbformat": 4,
 "nbformat_minor": 2
}
