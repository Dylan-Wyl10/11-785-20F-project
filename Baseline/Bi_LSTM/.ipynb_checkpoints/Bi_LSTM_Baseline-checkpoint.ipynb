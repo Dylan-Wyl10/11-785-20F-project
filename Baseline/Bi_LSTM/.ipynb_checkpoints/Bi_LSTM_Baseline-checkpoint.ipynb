{
 "cells": [
  {
   "cell_type": "code",
   "execution_count": 1,
   "metadata": {
    "colab": {
     "base_uri": "https://localhost:8080/"
    },
    "id": "GPC50a19MT7A",
    "outputId": "3faed485-830f-494b-e74c-d0fd96b4766c"
   },
   "outputs": [
    {
     "name": "stdout",
     "output_type": "stream",
     "text": [
      "Mounted at /content/drive\n"
     ]
    }
   ],
   "source": [
    "from google.colab import drive\n",
    "drive.mount('/content/drive')"
   ]
  },
  {
   "cell_type": "code",
   "execution_count": 2,
   "metadata": {
    "colab": {
     "base_uri": "https://localhost:8080/"
    },
    "id": "R3co9WiiMeVl",
    "outputId": "9eeb2c05-5721-41cd-8986-3b501714e3bf"
   },
   "outputs": [
    {
     "name": "stdout",
     "output_type": "stream",
     "text": [
      "/content/drive/My Drive/11785/Baseline\n"
     ]
    }
   ],
   "source": [
    "%cd ./drive/My\\ Drive/11785/Baseline"
   ]
  },
  {
   "cell_type": "code",
   "execution_count": 3,
   "metadata": {
    "id": "LwK6XJiqMRtE"
   },
   "outputs": [],
   "source": [
    "import random            \n",
    "import torch\n",
    "import time\n",
    "import torchvision\n",
    "import torch.nn as nn\n",
    "import seaborn as sns\n",
    "import torch.optim as optim\n",
    "import pandas as pd                                 \n",
    "import numpy as np\n",
    "import matplotlib.pyplot as plt  \n",
    "from collections import defaultdict\n",
    "from datetime import timedelta\n",
    "from torch.utils.data import Dataset, DataLoader"
   ]
  },
  {
   "cell_type": "code",
   "execution_count": 4,
   "metadata": {
    "id": "hCRODfYGMRtJ"
   },
   "outputs": [],
   "source": [
    "class Bi_LSTM_AutoEncoder(nn.Module):\n",
    "    def __init__(self,in_size, hidden_layers, encode=12, num_layers=3):\n",
    "        super(Bi_LSTM_AutoEncoder, self).__init__()\n",
    "        self.encoderlstm = nn.LSTM(in_size, hidden_layers, num_layers=num_layers, bidirectional=True)\n",
    "        self.encoderlinear = nn.Linear(2*hidden_layers, encode)\n",
    "        \n",
    "        self.decoderlstm = nn.LSTM(encode, hidden_layers, num_layers=num_layers, bidirectional=True)\n",
    "        self.decoderlinear = nn.Linear(2*hidden_layers, in_size)\n",
    "    def forward(self, x):\n",
    "        encoded, _ = self.encoderlstm(x)\n",
    "        encoded = self.encoderlinear(encoded)\n",
    "        decoded, _ = self.decoderlstm(encoded)\n",
    "        decoded = self.decoderlinear(decoded)\n",
    "        return decoded"
   ]
  },
  {
   "cell_type": "code",
   "execution_count": 5,
   "metadata": {
    "id": "kEZEu9v-MRtM"
   },
   "outputs": [],
   "source": [
    "class Loader(torch.utils.data.Dataset):\n",
    "    def __init__(self):\n",
    "        super(Loader, self).__init__()\n",
    "        self.dataset = ''\n",
    "    \n",
    "    def __len__(self):\n",
    "        return len(self.dataset)\n",
    "    \n",
    "    def __getitem__(self, idx):\n",
    "        row = self.dataset.iloc[idx]\n",
    "        row = row.drop(labels={'label'})\n",
    "        data = torch.reshape(torch.from_numpy(np.array(row)/255).float(),(28,28))\n",
    "        return data\n",
    "    \n",
    "class Train_Loader(Loader):\n",
    "    def __init__(self):\n",
    "        super(Train_Loader, self).__init__()\n",
    "        self.dataset = pd.read_csv(\n",
    "                       '../data/mnist_train.csv',\n",
    "                       index_col=False\n",
    "                       )"
   ]
  },
  {
   "cell_type": "code",
   "execution_count": 13,
   "metadata": {
    "id": "q7074QdBMRtQ"
   },
   "outputs": [],
   "source": [
    "batch_size = 1024\n",
    "lr = 1e-2         # learning rate\n",
    "w_d = 1e-5        # weight decay\n",
    "momentum = 0.9   \n",
    "epochs = 3\n",
    "\n",
    "train_set = Train_Loader()\n",
    "train_ = torch.utils.data.DataLoader(\n",
    "            train_set,\n",
    "            batch_size=batch_size,\n",
    "            shuffle=True,\n",
    "            drop_last=True\n",
    "        )"
   ]
  },
  {
   "cell_type": "code",
   "execution_count": 14,
   "metadata": {
    "id": "tM43JSAyMRtS"
   },
   "outputs": [],
   "source": [
    "metrics = defaultdict(list)\n",
    "device = 'cuda' if torch.cuda.is_available() else 'cpu'\n",
    "model= Bi_LSTM_AutoEncoder(28, 256)\n",
    "model.to(device)\n",
    "criterion = nn.MSELoss(reduction='mean')\n",
    "optimizer = torch.optim.SGD(model.parameters(), lr=lr, weight_decay=w_d)"
   ]
  },
  {
   "cell_type": "code",
   "execution_count": 15,
   "metadata": {
    "colab": {
     "base_uri": "https://localhost:8080/"
    },
    "id": "nVVHmVZnMRtW",
    "outputId": "b708a110-8182-4944-b0d1-2d8c0fb3d008"
   },
   "outputs": [
    {
     "name": "stdout",
     "output_type": "stream",
     "text": [
      "starting training\n",
      "-----------------------------------------------\n",
      "[EPOCH] 1/3\n",
      "[LOSS] 0.00010446956368784109\n",
      "Epoch Complete in 0:01:22.170284\n",
      "-----------------------------------------------\n",
      "[EPOCH] 2/3\n",
      "[LOSS] 0.0001009255745758613\n",
      "Epoch Complete in 0:01:21.199681\n",
      "-----------------------------------------------\n",
      "[EPOCH] 3/3\n",
      "[LOSS] 9.789974950253964e-05\n",
      "Epoch Complete in 0:01:21.761352\n",
      "-----------------------------------------------\n",
      "[System Complete: 0:04:05.132732]\n"
     ]
    }
   ],
   "source": [
    "model.train()\n",
    "start = time.time()\n",
    "print('starting training')\n",
    "for epoch in range(epochs):\n",
    "    ep_start = time.time()\n",
    "    running_loss = 0.0\n",
    "    for bx, data in enumerate(train_):\n",
    "        data = data.to(device)\n",
    "        #print(data.shape)\n",
    "        sample = model(data)\n",
    "        loss = criterion(data, sample)\n",
    "        optimizer.zero_grad()\n",
    "        loss.backward()\n",
    "        optimizer.step()\n",
    "        running_loss += loss.item()\n",
    "    epoch_loss = running_loss/len(train_set)\n",
    "    metrics['train_loss'].append(epoch_loss)\n",
    "    ep_end = time.time()\n",
    "    print('-----------------------------------------------')\n",
    "    print('[EPOCH] {}/{}\\n[LOSS] {}'.format(epoch+1,epochs,epoch_loss))\n",
    "    print('Epoch Complete in {}'.format(timedelta(seconds=ep_end-ep_start)))\n",
    "end = time.time()\n",
    "print('-----------------------------------------------')\n",
    "print('[System Complete: {}]'.format(timedelta(seconds=end-start)))"
   ]
  },
  {
   "cell_type": "code",
   "execution_count": 23,
   "metadata": {
    "colab": {
     "base_uri": "https://localhost:8080/"
    },
    "id": "cN0YONhjPOev",
    "outputId": "049857e7-5a7c-48dc-f7f6-c511db014b46"
   },
   "outputs": [
    {
     "name": "stdout",
     "output_type": "stream",
     "text": [
      "torch.Size([1024, 28, 28])\n"
     ]
    }
   ],
   "source": [
    "for bx, data in enumerate(train_):\n",
    "    print(data.shape)\n",
    "    break"
   ]
  },
  {
   "cell_type": "code",
   "execution_count": 18,
   "metadata": {
    "colab": {
     "base_uri": "https://localhost:8080/",
     "height": 624
    },
    "id": "e0b7op18MRta",
    "outputId": "be736ba2-9d74-472c-9914-116507baf4c4"
   },
   "outputs": [
    {
     "data": {
      "text/plain": [
       "[<matplotlib.lines.Line2D at 0x7f891041beb8>]"
      ]
     },
     "execution_count": 18,
     "metadata": {
      "tags": []
     },
     "output_type": "execute_result"
    },
    {
     "data": {
      "image/png": "[encoded data removed]",
      "text/plain": [
       "<Figure size 720x720 with 1 Axes>"
      ]
     },
     "metadata": {
      "needs_background": "light",
      "tags": []
     },
     "output_type": "display_data"
    }
   ],
   "source": [
    "# train loss\n",
    "_, ax = plt.subplots(1,1,figsize=(10,10))\n",
    "ax.set_title('Loss')\n",
    "ax.plot(metrics['train_loss'])"
   ]
  },
  {
   "cell_type": "code",
   "execution_count": 30,
   "metadata": {
    "colab": {
     "base_uri": "https://localhost:8080/",
     "height": 282
    },
    "id": "SEJ-UozkQAxk",
    "outputId": "32e49687-272a-48ce-9500-890b6e032448"
   },
   "outputs": [
    {
     "data": {
      "text/plain": [
       "<matplotlib.lines.Line2D at 0x7f88121e5780>"
      ]
     },
     "execution_count": 30,
     "metadata": {
      "tags": []
     },
     "output_type": "execute_result"
    },
    {
     "data": {
      "image/png": "[encoded data removed]",
      "text/plain": [
       "<Figure size 432x288 with 1 Axes>"
      ]
     },
     "metadata": {
      "needs_background": "light",
      "tags": []
     },
     "output_type": "display_data"
    }
   ],
   "source": [
    " # Get threshold\n",
    "model.eval()\n",
    "loss_dist = []\n",
    "anom = pd.read_csv('../data/abnormal.csv', index_col=[0])\n",
    "\n",
    "for i in range(len(anom)):\n",
    "    data = torch.from_numpy(np.array(anom.iloc[i][1:])/255).float()\n",
    "    data = data.reshape(1, 28, 28)\n",
    "    sample = model(data.to(device))\n",
    "    loss = criterion(data.to(device), sample)\n",
    "    loss_dist.append(loss.item())\n",
    "\n",
    "loss_sc = []\n",
    "for i in loss_dist:\n",
    "    loss_sc.append((i,i))\n",
    "\n",
    "plt.scatter(*zip(*loss_sc))\n",
    "plt.axvline(0.32, 0.0, 1)"
   ]
  },
  {
   "cell_type": "code",
   "execution_count": 31,
   "metadata": {
    "colab": {
     "base_uri": "https://localhost:8080/",
     "height": 461
    },
    "id": "MFzKGN4KMRth",
    "outputId": "cfba7a6f-eef2-4665-f9d4-2fbaa370ab7d"
   },
   "outputs": [
    {
     "name": "stderr",
     "output_type": "stream",
     "text": [
      "/usr/local/lib/python3.6/dist-packages/seaborn/distributions.py:2551: FutureWarning: `distplot` is a deprecated function and will be removed in a future version. Please adapt your code to use either `displot` (a figure-level function with similar flexibility) or `histplot` (an axes-level function for histograms).\n",
      "  warnings.warn(msg, FutureWarning)\n"
     ]
    },
    {
     "data": {
      "text/plain": [
       "<matplotlib.lines.Line2D at 0x7f881216c2b0>"
      ]
     },
     "execution_count": 31,
     "metadata": {
      "tags": []
     },
     "output_type": "execute_result"
    },
    {
     "data": {
      "image/png": "[encoded data removed]",
      "text/plain": [
       "<Figure size 864x432 with 1 Axes>"
      ]
     },
     "metadata": {
      "needs_background": "light",
      "tags": []
     },
     "output_type": "display_data"
    }
   ],
   "source": [
    "# Plot threshold\n",
    "lower_threshold = 0.0\n",
    "upper_threshold = 0.32\n",
    "plt.figure(figsize=(12,6))\n",
    "plt.title('Loss Distribution')\n",
    "sns.distplot(loss_dist,bins=100,kde=True, color='blue')\n",
    "plt.axvline(upper_threshold, 0.0, 10, color='r')\n",
    "plt.axvline(lower_threshold, 0.0, 10, color='b')"
   ]
  },
  {
   "cell_type": "code",
   "execution_count": 33,
   "metadata": {
    "colab": {
     "base_uri": "https://localhost:8080/"
    },
    "id": "b6W2tQ7pMRtl",
    "outputId": "7ceed635-885d-46e6-dd19-5c06586b5455"
   },
   "outputs": [
    {
     "name": "stdout",
     "output_type": "stream",
     "text": [
      "[TP] 1000\t[FP] 0\t[MISSED] 0\n",
      "[TN] 9000\t[FN] 0\n"
     ]
    }
   ],
   "source": [
    "# Confusion matrix\n",
    "df = pd.read_csv('../data/abnormal.csv', index_col=[0])\n",
    "ddf = pd.DataFrame(columns=df.columns)\n",
    "tp = 0\n",
    "fp = 0\n",
    "tn = 0\n",
    "fn = 0\n",
    "total_anom = 0\n",
    "for i in range(len(loss_dist)):\n",
    "    total_anom += df.iloc[i]['label']\n",
    "    if loss_dist[i] >= upper_threshold:\n",
    "        n_df = pd.DataFrame([df.iloc[i]])\n",
    "        n_df['loss'] = loss_dist[i]\n",
    "        ddf = pd.concat([df,n_df], sort = True)\n",
    "        if float(df.iloc[i]['label']) == 1.0:\n",
    "            tp += 1\n",
    "        else:\n",
    "            fp += 1\n",
    "    else:\n",
    "        if float(df.iloc[i]['label']) == 1.0:\n",
    "            fn += 1\n",
    "        else:\n",
    "            tn += 1\n",
    "print('[TP] {}\\t[FP] {}\\t[MISSED] {}'.format(tp, fp, total_anom-tp))\n",
    "print('[TN] {}\\t[FN] {}'.format(tn, fn))"
   ]
  },
  {
   "cell_type": "code",
   "execution_count": 34,
   "metadata": {
    "colab": {
     "base_uri": "https://localhost:8080/",
     "height": 286
    },
    "id": "9594DjRkMRto",
    "outputId": "0b210311-b4d7-44fb-cdf8-f9335772184b"
   },
   "outputs": [
    {
     "data": {
      "text/plain": [
       "<matplotlib.axes._subplots.AxesSubplot at 0x7f880e2ba5f8>"
      ]
     },
     "execution_count": 34,
     "metadata": {
      "tags": []
     },
     "output_type": "execute_result"
    },
    {
     "data": {
      "image/png": "[encoded data removed]",
      "text/plain": [
       "<Figure size 432x288 with 2 Axes>"
      ]
     },
     "metadata": {
      "needs_background": "light",
      "tags": []
     },
     "output_type": "display_data"
    }
   ],
   "source": [
    "conf = np.array([[tn,fp],[fn,tp]])\n",
    "plt.figure()\n",
    "sns.heatmap(conf,annot=True,annot_kws={\"size\": 16},fmt='g')"
   ]
  },
  {
   "cell_type": "code",
   "execution_count": null,
   "metadata": {
    "id": "KwRxUkGWQ8kY"
   },
   "outputs": [],
   "source": []
  }
 ],
 "metadata": {
  "accelerator": "GPU",
  "colab": {
   "name": "Bi_LSTM Baseline.ipynb",
   "provenance": []
  },
  "kernelspec": {
   "display_name": "Python 3",
   "language": "python",
   "name": "python3"
  },
  "language_info": {
   "codemirror_mode": {
    "name": "ipython",
    "version": 3
   },
   "file_extension": ".py",
   "mimetype": "text/x-python",
   "name": "python",
   "nbconvert_exporter": "python",
   "pygments_lexer": "ipython3",
   "version": "3.6.12"
  }
 },
 "nbformat": 4,
 "nbformat_minor": 1
}
